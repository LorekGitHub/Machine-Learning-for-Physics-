{
 "cells": [
  {
   "cell_type": "markdown",
   "metadata": {},
   "source": [
    "# Finding Supernova Neutrinos - 19024750\n",
    "\n",
    "To date we have only managed to detect the neutrinos from one supernova, which arrived at Earth on the 23rd February 1987 and is known by the snappy name SN1987A. In this project you will investigate the feasibility of idenitfying supernova neutrino events in a new type of detector a liquid argon time-projection chamber. These detectors give incredibly high-resolution 'images' of the charged-particle tracks produced when a neutrino interacts in the detector.\n",
    "\n",
    "The data for this mini-project comes in the form of the following files:\n",
    "\n",
    "| File | Description |\n",
    "| ----------- | ----------- |\n",
    "| larImages.npy | A numpy array of 10,000 100x100 pixel images |\n",
    "| meta.npy | The meta information about the particles in the image |\n",
    "\n",
    "\n",
    "The images show the energy deposited in the liquid argon detector in a small slice of space and time. The meta information contains the following 64 numbers  for each image. The [PDG code](https://pdg.lbl.gov/2019/reviews/rpp2019-rev-monte-carlo-numbering.pdf) is a number which identifies the particle type (e.g electron=11, electron-neutrino=12, etc.)\n",
    "\n",
    "| Column | Description |\n",
    "| ----------- | ----------- |\n",
    "| 0 | Row number |\n",
    "| 1 | Neutrino Energy (MeV) |\n",
    "| 2 | Initial state particles (always 2) |\n",
    "| 3 | Final state particles (varies) |\n",
    "| 4-8 | Initial Particle 1: PDG code, Total Energy (MeV), $p_x$, $p_y$, $p_z$ | \n",
    "| 9-13 | Initial Particle 2: PDG code, Total Energy (MeV), $p_x$, $p_y$, $p_z$ |\n",
    "| 14-18 | Final Particle 1: PDG code, Total Energy (MeV), $p_x$, $p_y$, $p_z$ | \n",
    "| 19-23 | Final Particle 2: PDG code, Total Energy (MeV), $p_x$, $p_y$, $p_z$ |\n",
    "| $\\vdots$ | Final Particle N: PDG code, Total Energy (MeV), $p_x$, $p_y$, $p_z$ |\n",
    "| 59-63 | Final Particle 10: PDG code, Total Energy (MeV), $p_x$, $p_y$, $p_z$ |\n",
    "\n",
    "## Machine learning tasks\n",
    "1. Write a method to simulate electronic noise in the detector. The electronic noise is expected to follow a normal distribution.\n",
    "2. Develop a machine learning classifier that can successfully classify 'clean' simulated neutrinos from 'empty' slices with some amount of 'electronic noise', how does your machine learning algorithm perform at differing noise levels?\n",
    "3. Test your machine learning classifier on simulated neutrinos overlaid with noise, what level of additional noise starts to impact your machine learning algorithm\n",
    "\n",
    "### Potential extensions\n",
    "1. Write a method to generate noise in the 100x100 pixel images to simulate radioactive noise. This noise should be in the form of randomly placed Gaussian 'blobs' with appropriate energy. Repeat the above tests with radioactive noise. Is radioactive noise more or less of a problem than electronic noise? \n",
    "2. Write a machine learning algorithm that can determine either the electron energy or (even better) the neutrino energy. What is the best energy resolution that can be achieved by such an algorithm?\n",
    "3. Write a machine learning algorithm to effectively denoise either the electronic noise or radioactive noise datasets\n",
    "4. Write a machine learning algorithm to determin the number of final state particles in the image\n",
    "\n"
   ]
  },
  {
   "cell_type": "code",
   "execution_count": 1,
   "metadata": {},
   "outputs": [],
   "source": [
    "import matplotlib.pyplot as plt\n",
    "import numpy as np\n",
    "import math\n",
    "\n",
    "# TensorFlow and tf.keras\n",
    "import tensorflow as tf\n",
    "from tensorflow import keras\n",
    "\n",
    "import matplotlib.style #Some style nonsense\n",
    "import matplotlib as mpl #Some more style nonsense"
   ]
  },
  {
   "cell_type": "code",
   "execution_count": 2,
   "metadata": {},
   "outputs": [
    {
     "name": "stdout",
     "output_type": "stream",
     "text": [
      "images.shape (10000, 100, 100)\n",
      "meta.shape (10000, 64)\n"
     ]
    }
   ],
   "source": [
    "\n",
    "images=np.load('larImages.npy') #Load the l\n",
    "meta=np.load('meta.npy')\n",
    "\n",
    "print(\"images.shape\",images.shape)\n",
    "print(\"meta.shape\",meta.shape)"
   ]
  },
  {
   "cell_type": "code",
   "execution_count": 3,
   "metadata": {},
   "outputs": [
    {
     "name": "stdout",
     "output_type": "stream",
     "text": [
      "Row 0 corresponds to a neutrino of 21.2005 MeV and produced 6 final state particles\n"
     ]
    }
   ],
   "source": [
    "print(\"Row\",int(meta[0][0]),\"corresponds to a neutrino of\",meta[0][1], \"MeV and produced\",int(meta[0][3]),\"final state particles\")"
   ]
  },
  {
   "cell_type": "code",
   "execution_count": 4,
   "metadata": {},
   "outputs": [
    {
     "data": {
      "image/png": "[encoded data removed]",
      "text/plain": [
       "<Figure size 432x288 with 1 Axes>"
      ]
     },
     "metadata": {
      "needs_background": "light"
     },
     "output_type": "display_data"
    }
   ],
   "source": [
    "plt.figure()\n",
    "plt.imshow(images[0])\n",
    "plt.show()"
   ]
  },
  {
   "cell_type": "markdown",
   "metadata": {},
   "source": [
    "# 1) Write a method to simulate electronic noise in the detector. The electronic noise is expected to follow a normal distribution."
   ]
  },
  {
   "cell_type": "markdown",
   "metadata": {},
   "source": [
    "The following cell outputs non-zero pixel values from images[0] to get an idea of what values the pixels take; this will give insight into which noise levels to choose throughout this notebook."
   ]
  },
  {
   "cell_type": "code",
   "execution_count": 5,
   "metadata": {
    "scrolled": false
   },
   "outputs": [
    {
     "name": "stdout",
     "output_type": "stream",
     "text": [
      "(6, 92) 2.0\n",
      "(50, 52) 4.0\n",
      "(50, 53) 1.0\n",
      "(50, 55) 9.0\n",
      "(51, 53) 3.0\n",
      "(51, 54) 2.0\n",
      "(51, 55) 8.0\n",
      "(51, 59) 1.0\n",
      "(52, 51) 9.0\n",
      "(52, 52) 8.0\n",
      "(52, 53) 6.0\n",
      "(52, 54) 10.0\n",
      "(52, 55) 10.0\n",
      "(52, 56) 10.0\n",
      "(52, 57) 7.0\n",
      "(53, 50) 10.0\n",
      "(53, 51) 3.0\n",
      "(53, 57) 3.0\n",
      "(53, 58) 10.0\n",
      "(53, 59) 18.0\n",
      "(53, 60) 30.0\n",
      "(53, 61) 12.0\n",
      "(53, 62) 1.0\n",
      "(53, 65) 1.0\n",
      "(54, 73) 1.0\n",
      "(55, 36) 3.0\n",
      "(55, 89) 12.0\n",
      "(56, 36) 1.0\n",
      "(57, 37) 1.0\n",
      "(57, 48) 1.0\n",
      "(57, 79) 2.0\n",
      "(58, 36) 1.0\n",
      "(58, 43) 1.0\n",
      "(58, 47) 1.0\n",
      "(59, 47) 10.0\n",
      "(60, 47) 9.0\n",
      "(64, 30) 2.0\n",
      "(65, 31) 1.0\n",
      "(66, 38) 1.0\n",
      "(67, 35) 6.0\n",
      "(72, 37) 1.0\n",
      "(73, 27) 1.0\n",
      "(74, 27) 2.0\n",
      "(74, 37) 2.0\n",
      "(78, 45) 1.0\n",
      "(81, 51) 1.0\n",
      "(85, 17) 1.0\n",
      "(85, 18) 2.0\n",
      "(85, 49) 1.0\n",
      "(86, 16) 1.0\n",
      "(87, 40) 1.0\n",
      "(89, 14) 1.0\n",
      "(89, 17) 1.0\n",
      "(89, 27) 2.0\n",
      "(90, 17) 1.0\n",
      "(90, 21) 1.0\n",
      "(90, 27) 2.0\n",
      "(91, 45) 1.0\n",
      "(91, 46) 1.0\n",
      "(91, 48) 1.0\n",
      "(92, 38) 1.0\n",
      "(92, 47) 2.0\n",
      "(93, 37) 1.0\n",
      "(94, 37) 1.0\n",
      "(95, 37) 1.0\n",
      "The mean of the pixel values is: 4.030769230769231\n"
     ]
    }
   ],
   "source": [
    "nonzero = []\n",
    "for i in range(100):\n",
    "    j = 0\n",
    "    for val in images[0,i]:\n",
    "        \n",
    "        # When printing out all 10,000 pixels, most take value zero, thus include:\n",
    "        \n",
    "        if val > 0:\n",
    "            print((i,j), val)\n",
    "            nonzero.append(val)\n",
    "        j +=1\n",
    "    \n",
    "print('The mean of the pixel values is:', np.mean(nonzero))"
   ]
  },
  {
   "cell_type": "code",
   "execution_count": 6,
   "metadata": {},
   "outputs": [
    {
     "name": "stdout",
     "output_type": "stream",
     "text": [
      "(50, 52) 4.0\n",
      "(50, 55) 9.0\n",
      "(51, 53) 3.0\n",
      "(51, 55) 8.0\n",
      "(52, 51) 9.0\n",
      "(52, 52) 8.0\n",
      "(52, 53) 6.0\n",
      "(52, 54) 10.0\n",
      "(52, 55) 10.0\n",
      "(52, 56) 10.0\n",
      "(52, 57) 7.0\n",
      "(53, 50) 10.0\n",
      "(53, 51) 3.0\n",
      "(53, 57) 3.0\n",
      "(53, 58) 10.0\n",
      "(53, 59) 18.0\n",
      "(53, 60) 30.0\n",
      "(53, 61) 12.0\n",
      "(55, 36) 3.0\n",
      "(55, 89) 12.0\n",
      "(59, 47) 10.0\n",
      "(60, 47) 9.0\n",
      "(67, 35) 6.0\n",
      "The mean of the pixel values is: 9.130434782608695\n"
     ]
    }
   ],
   "source": [
    "nonzero = []  \n",
    "for i in range(100):\n",
    "    j = 0\n",
    "    for val in images[0,i]:\n",
    "        \n",
    "        # When printing out all 10,000 pixels, most take value zero, thus include:\n",
    "        \n",
    "        if val > 2:\n",
    "            print((i,j), val)\n",
    "            nonzero.append(val)\n",
    "        j +=1\n",
    "        \n",
    "print('The mean of the pixel values is:', np.mean(nonzero))"
   ]
  },
  {
   "cell_type": "markdown",
   "metadata": {},
   "source": [
    "### Method by which electronic noise in the liquid-argon detector is simulated:"
   ]
  },
  {
   "cell_type": "code",
   "execution_count": 7,
   "metadata": {},
   "outputs": [
    {
     "data": {
      "image/png": "[encoded data removed]",
      "text/plain": [
       "<Figure size 432x288 with 1 Axes>"
      ]
     },
     "metadata": {
      "needs_background": "light"
     },
     "output_type": "display_data"
    },
    {
     "data": {
      "image/png": "[encoded data removed]",
      "text/plain": [
       "<Figure size 432x288 with 1 Axes>"
      ]
     },
     "metadata": {
      "needs_background": "light"
     },
     "output_type": "display_data"
    }
   ],
   "source": [
    "def add_noise(images, y_noise):\n",
    "    \n",
    "    '''Adds some amount of \"electronic noise\"\n",
    "    that follows a normal distribution to a\n",
    "    given image'''\n",
    "    \n",
    "    images_noise = images + np.random.normal(loc=y_noise, scale=1.0, size=images.shape)\n",
    "    \n",
    "    return images_noise\n",
    "\n",
    "blanks = np.zeros_like(images)\n",
    "\n",
    "y_noise = np.random.normal(0,1,blanks.shape)\n",
    "\n",
    "Enoise = add_noise(blanks,y_noise)\n",
    "\n",
    "plt.figure()\n",
    "plt.title('Empty Slice (plain image)')\n",
    "plt.imshow(blanks[0])\n",
    "plt.figure()\n",
    "plt.title('Simulated Electric Noise')\n",
    "plt.imshow(Enoise[0],interpolation='nearest')\n",
    "\n",
    "plt.show()"
   ]
  },
  {
   "cell_type": "markdown",
   "metadata": {},
   "source": [
    "# 2) Develop a machine learning classifier that can successfully classify 'clean' simulated neutrinos from 'empty' slices with some amount of 'electronic noise', how does your machine learning algorithm perform at differing noise levels?"
   ]
  },
  {
   "cell_type": "markdown",
   "metadata": {},
   "source": [
    "The following cell defines the model (neural network) used to classify the images throughout this notebook. A 2-dimensional convolutional layer was attempted for use for the sake of learning flexibility and minimising unnecessary neuron links by introducing a kernel, a computing issue that meant the epoch speed wasn't responding to a change in learning rate prevented this thus a 20 neuron fully connected dense layer was used. The classifier only has to distinguish whether the image contains a neutrino or not; it is thus binary and only requires two potential outputs which is reflected in the neuron count of the network’s ultimate dense layer."
   ]
  },
  {
   "cell_type": "code",
   "execution_count": 8,
   "metadata": {},
   "outputs": [
    {
     "name": "stdout",
     "output_type": "stream",
     "text": [
      "Model: \"sequential\"\n",
      "_________________________________________________________________\n",
      "Layer (type)                 Output Shape              Param #   \n",
      "=================================================================\n",
      "flatten (Flatten)            (None, 10000)             0         \n",
      "_________________________________________________________________\n",
      "dense (Dense)                (None, 20)                200020    \n",
      "_________________________________________________________________\n",
      "dense_1 (Dense)              (None, 2)                 42        \n",
      "=================================================================\n",
      "Total params: 200,062\n",
      "Trainable params: 200,062\n",
      "Non-trainable params: 0\n",
      "_________________________________________________________________\n"
     ]
    }
   ],
   "source": [
    "model = keras.Sequential([\n",
    "    #keras.layers.Conv2D(4, (5, 5), activation='relu', input_shape=(100,100,1)),\n",
    "    keras.layers.Flatten(input_shape=(100,100,1)),\n",
    "    keras.layers.Dense(20),\n",
    "    keras.layers.Dense(2)\n",
    "])\n",
    "\n",
    "model.summary()\n",
    "\n",
    "model.compile(optimizer='adam',\n",
    "              loss=tf.keras.losses.SparseCategoricalCrossentropy(from_logits=True),\n",
    "              metrics=['accuracy'])"
   ]
  },
  {
   "cell_type": "markdown",
   "metadata": {},
   "source": [
    "Here, the model is trained on all 10,000 'clean' simulated neutrino images and all 10,000 'empty' slices with some level of 'electronic noise'. The testing images are simply a shuffling of said training images so that the machine isn't capable of identifying just through chronology."
   ]
  },
  {
   "cell_type": "markdown",
   "metadata": {},
   "source": [
    "# Training the network on shuffled copies:"
   ]
  },
  {
   "cell_type": "code",
   "execution_count": 9,
   "metadata": {},
   "outputs": [],
   "source": [
    "# The classifier only has to distinguish whether the image contains a neutrino\n",
    "# or not, the classifier is thus binary and only requires to 1 of 2 potential\n",
    "# outputs\n",
    "\n",
    "# Defining a function that can shuffle two inputs i.e. images / labels\n",
    "\n",
    "def unison_shuffled_copies(a, b):\n",
    "    assert len(a) == len(b)\n",
    "    p = np.random.permutation(len(a))\n",
    "    return a[p], b[p]\n",
    "\n",
    "images_labels = np.ones(10000)\n",
    "Enoise_labels = np.zeros(10000)\n",
    "\n",
    "# Noise = 5\n",
    "\n",
    "Enoise1 = add_noise(blanks, 5)\n",
    "\n",
    "# Noise = 10\n",
    "\n",
    "Enoise2 = add_noise(blanks, 10)\n",
    "\n",
    "# Noise = 15\n",
    "\n",
    "Enoise3 = add_noise(blanks, 15)\n",
    "\n",
    "train_images1 = np.concatenate((images, Enoise1), axis=0)\n",
    "train_images2 = np.concatenate((images, Enoise2), axis=0)\n",
    "train_images3 = np.concatenate((images, Enoise3), axis=0)\n",
    "\n",
    "train_labels = np.concatenate((images_labels, Enoise_labels), axis=0)\n",
    "\n",
    "train_images1, train_labels1 = unison_shuffled_copies(train_images1, train_labels)\n",
    "train_images2, train_labels2 = unison_shuffled_copies(train_images2, train_labels)\n",
    "train_images3, train_labels3 = unison_shuffled_copies(train_images3, train_labels)\n",
    "\n",
    "test_images1, test_labels1 = unison_shuffled_copies(train_images1, train_labels1)\n",
    "test_images2, test_labels2 = unison_shuffled_copies(train_images2, train_labels2)\n",
    "test_images3, test_labels3 = unison_shuffled_copies(train_images3, train_labels3)\n",
    "\n",
    "# Reshape to 4 dimensions for keras\n",
    "\n",
    "train_images1 = train_images1.reshape(20000, 100, 100, 1)\n",
    "train_images2 = train_images2.reshape(20000, 100, 100, 1)\n",
    "train_images3 = train_images3.reshape(20000, 100, 100, 1)"
   ]
  },
  {
   "cell_type": "markdown",
   "metadata": {},
   "source": [
    "Training Noise = 5"
   ]
  },
  {
   "cell_type": "code",
   "execution_count": 10,
   "metadata": {
    "scrolled": false
   },
   "outputs": [
    {
     "name": "stdout",
     "output_type": "stream",
     "text": [
      "Epoch 1/5\n",
      "200/200 [==============================] - 2s 5ms/step - loss: 0.2520 - accuracy: 0.9318\n",
      "Epoch 2/5\n",
      "200/200 [==============================] - 1s 5ms/step - loss: 0.0052 - accuracy: 0.9984\n",
      "Epoch 3/5\n",
      "200/200 [==============================] - 1s 4ms/step - loss: 0.0011 - accuracy: 0.9999\n",
      "Epoch 4/5\n",
      "200/200 [==============================] - 1s 4ms/step - loss: 4.4207e-04 - accuracy: 1.0000\n",
      "Epoch 5/5\n",
      "200/200 [==============================] - 1s 5ms/step - loss: 2.8534e-04 - accuracy: 1.0000\n"
     ]
    }
   ],
   "source": [
    "history=model.fit(train_images1, train_labels1,batch_size=100, epochs=5)"
   ]
  },
  {
   "cell_type": "code",
   "execution_count": 11,
   "metadata": {},
   "outputs": [
    {
     "name": "stdout",
     "output_type": "stream",
     "text": [
      "625/625 [==============================] - 1s 1ms/step - loss: 2.3057e-04 - accuracy: 1.0000\n"
     ]
    }
   ],
   "source": [
    "test_loss, test_acc = model.evaluate(test_images1, test_labels1)"
   ]
  },
  {
   "cell_type": "markdown",
   "metadata": {},
   "source": [
    "Training Noise = 10"
   ]
  },
  {
   "cell_type": "code",
   "execution_count": 12,
   "metadata": {},
   "outputs": [
    {
     "name": "stdout",
     "output_type": "stream",
     "text": [
      "Epoch 1/5\n",
      "200/200 [==============================] - 1s 4ms/step - loss: 2.0780e-04 - accuracy: 1.0000\n",
      "Epoch 2/5\n",
      "200/200 [==============================] - 1s 4ms/step - loss: 1.6028e-04 - accuracy: 1.0000\n",
      "Epoch 3/5\n",
      "200/200 [==============================] - 1s 3ms/step - loss: 1.2824e-04 - accuracy: 1.0000\n",
      "Epoch 4/5\n",
      "200/200 [==============================] - 1s 4ms/step - loss: 1.0525e-04 - accuracy: 1.0000\n",
      "Epoch 5/5\n",
      "200/200 [==============================] - 1s 3ms/step - loss: 8.8091e-05 - accuracy: 1.0000\n"
     ]
    }
   ],
   "source": [
    "history=model.fit(train_images2, train_labels2,batch_size=100, epochs=5)"
   ]
  },
  {
   "cell_type": "code",
   "execution_count": 13,
   "metadata": {},
   "outputs": [
    {
     "name": "stdout",
     "output_type": "stream",
     "text": [
      "625/625 [==============================] - 1s 1ms/step - loss: 7.9562e-05 - accuracy: 1.0000\n"
     ]
    }
   ],
   "source": [
    "test_loss, test_acc = model.evaluate(test_images2, test_labels2)"
   ]
  },
  {
   "cell_type": "markdown",
   "metadata": {},
   "source": [
    "Training Noise = 15"
   ]
  },
  {
   "cell_type": "code",
   "execution_count": 14,
   "metadata": {},
   "outputs": [
    {
     "name": "stdout",
     "output_type": "stream",
     "text": [
      "Epoch 1/5\n",
      "200/200 [==============================] - 3s 12ms/step - loss: 7.4733e-05 - accuracy: 1.0000\n",
      "Epoch 2/5\n",
      "200/200 [==============================] - 1s 4ms/step - loss: 6.4191e-05 - accuracy: 1.0000\n",
      "Epoch 3/5\n",
      "200/200 [==============================] - 1s 4ms/step - loss: 5.5624e-05 - accuracy: 1.0000\n",
      "Epoch 4/5\n",
      "200/200 [==============================] - 1s 3ms/step - loss: 4.8601e-05 - accuracy: 1.0000\n",
      "Epoch 5/5\n",
      "200/200 [==============================] - 1s 3ms/step - loss: 4.2692e-05 - accuracy: 1.0000\n"
     ]
    }
   ],
   "source": [
    "history=model.fit(train_images3, train_labels3,batch_size=100, epochs=5)"
   ]
  },
  {
   "cell_type": "code",
   "execution_count": 15,
   "metadata": {},
   "outputs": [
    {
     "name": "stdout",
     "output_type": "stream",
     "text": [
      "625/625 [==============================] - 1s 1ms/step - loss: 3.9626e-05 - accuracy: 1.0000\n"
     ]
    }
   ],
   "source": [
    "test_loss, test_acc = model.evaluate(test_images3, test_labels3)"
   ]
  },
  {
   "cell_type": "markdown",
   "metadata": {},
   "source": [
    "# Training the network on 2 equally split image arrays with zero image identicality between them:"
   ]
  },
  {
   "cell_type": "markdown",
   "metadata": {},
   "source": [
    "Here, the 10,000 neutrino image simulations are split into 2 with each being used as the training set and testing set respectively alongside an equal number of noisy blanks."
   ]
  },
  {
   "cell_type": "code",
   "execution_count": 16,
   "metadata": {
    "scrolled": false
   },
   "outputs": [
    {
     "name": "stdout",
     "output_type": "stream",
     "text": [
      "(5000, 100, 100)\n"
     ]
    }
   ],
   "source": [
    "# The first 5000 neutrino images\n",
    "\n",
    "images1 = np.resize(images, (5000, 100, 100))\n",
    "\n",
    "blanks = np.zeros_like(images1)\n",
    "\n",
    "print(np.shape(images1))\n",
    "\n",
    "# The latter 5000 neutrino images\n",
    "\n",
    "images2 = np.flip(np.resize(np.flip(images), (5000, 100, 100)))\n",
    "\n",
    "# The labels for both splits are identical thus no need to redefine\n",
    "\n",
    "images1_labels = np.ones(5000)\n",
    "Enoise1_labels = np.zeros(5000)\n",
    "\n",
    "# Noise = 5\n",
    "\n",
    "Enoise4 = add_noise(blanks,5)\n",
    "Enoise5 = add_noise(blanks,5)\n",
    "\n",
    "# Noise = 10\n",
    "\n",
    "Enoise6 = add_noise(blanks,10)\n",
    "Enoise7 = add_noise(blanks,10)\n",
    "\n",
    "# Noise = 15\n",
    "\n",
    "Enoise8 = add_noise(blanks,15)\n",
    "Enoise9 = add_noise(blanks,15)\n",
    "train_images4 = np.concatenate((images1, Enoise4), axis=0)\n",
    "train_images5 = np.concatenate((images1, Enoise6), axis=0)\n",
    "train_images6 = np.concatenate((images1, Enoise8), axis=0)\n",
    "\n",
    "train_labels4 = np.concatenate((images1_labels, Enoise1_labels), axis=0)\n",
    "\n",
    "test_images4 = np.concatenate((images2, Enoise5))\n",
    "test_images5 = np.concatenate((images2, Enoise7))\n",
    "test_images6 = np.concatenate((images2, Enoise9))\n",
    "\n",
    "test_labels4 = np.concatenate((images1_labels, Enoise1_labels), axis=0)"
   ]
  },
  {
   "cell_type": "code",
   "execution_count": 17,
   "metadata": {},
   "outputs": [
    {
     "name": "stdout",
     "output_type": "stream",
     "text": [
      "Epoch 1/5\n",
      "100/100 [==============================] - 1s 5ms/step - loss: 4.0362e-05 - accuracy: 1.0000\n",
      "Epoch 2/5\n",
      "100/100 [==============================] - 0s 4ms/step - loss: 3.7471e-05 - accuracy: 1.0000\n",
      "Epoch 3/5\n",
      "100/100 [==============================] - 0s 4ms/step - loss: 3.4889e-05 - accuracy: 1.0000\n",
      "Epoch 4/5\n",
      "100/100 [==============================] - 0s 4ms/step - loss: 3.2553e-05 - accuracy: 1.0000\n",
      "Epoch 5/5\n",
      "100/100 [==============================] - 0s 4ms/step - loss: 3.0426e-05 - accuracy: 1.0000\n"
     ]
    }
   ],
   "source": [
    "history=model.fit(train_images4, train_labels4,batch_size=100, epochs=5)"
   ]
  },
  {
   "cell_type": "code",
   "execution_count": 18,
   "metadata": {},
   "outputs": [
    {
     "name": "stdout",
     "output_type": "stream",
     "text": [
      "313/313 - 1s - loss: 2.9687e-05 - accuracy: 1.0000\n"
     ]
    }
   ],
   "source": [
    "test_loss, test_acc = model.evaluate(test_images4,  test_labels4, verbose=2)"
   ]
  },
  {
   "cell_type": "code",
   "execution_count": 19,
   "metadata": {},
   "outputs": [
    {
     "name": "stdout",
     "output_type": "stream",
     "text": [
      "Epoch 1/5\n",
      "100/100 [==============================] - 0s 4ms/step - loss: 2.8502e-05 - accuracy: 1.0000\n",
      "Epoch 2/5\n",
      "100/100 [==============================] - 0s 4ms/step - loss: 2.6728e-05 - accuracy: 1.0000\n",
      "Epoch 3/5\n",
      "100/100 [==============================] - 0s 4ms/step - loss: 2.5103e-05 - accuracy: 1.0000\n",
      "Epoch 4/5\n",
      "100/100 [==============================] - 0s 4ms/step - loss: 2.3611e-05 - accuracy: 1.0000\n",
      "Epoch 5/5\n",
      "100/100 [==============================] - 0s 4ms/step - loss: 2.2234e-05 - accuracy: 1.0000\n"
     ]
    }
   ],
   "source": [
    "history=model.fit(train_images5, train_labels4,batch_size=100, epochs=5)"
   ]
  },
  {
   "cell_type": "code",
   "execution_count": 20,
   "metadata": {},
   "outputs": [
    {
     "name": "stdout",
     "output_type": "stream",
     "text": [
      "313/313 - 0s - loss: 2.3857e-05 - accuracy: 1.0000\n"
     ]
    }
   ],
   "source": [
    "test_loss, test_acc = model.evaluate(test_images5,  test_labels4, verbose=2)"
   ]
  },
  {
   "cell_type": "code",
   "execution_count": 21,
   "metadata": {},
   "outputs": [
    {
     "name": "stdout",
     "output_type": "stream",
     "text": [
      "Epoch 1/5\n",
      "100/100 [==============================] - 0s 4ms/step - loss: 2.0962e-05 - accuracy: 1.0000\n",
      "Epoch 2/5\n",
      "100/100 [==============================] - 0s 4ms/step - loss: 1.9773e-05 - accuracy: 1.0000\n",
      "Epoch 3/5\n",
      "100/100 [==============================] - 0s 4ms/step - loss: 1.8671e-05 - accuracy: 1.0000\n",
      "Epoch 4/5\n",
      "100/100 [==============================] - 0s 4ms/step - loss: 1.7651e-05 - accuracy: 1.0000\n",
      "Epoch 5/5\n",
      "100/100 [==============================] - 0s 4ms/step - loss: 1.6693e-05 - accuracy: 1.0000\n"
     ]
    }
   ],
   "source": [
    "history=model.fit(train_images6, train_labels4,batch_size=100, epochs=5)"
   ]
  },
  {
   "cell_type": "code",
   "execution_count": 22,
   "metadata": {},
   "outputs": [
    {
     "name": "stdout",
     "output_type": "stream",
     "text": [
      "313/313 - 0s - loss: 1.9478e-05 - accuracy: 1.0000\n"
     ]
    }
   ],
   "source": [
    "test_loss, test_acc = model.evaluate(test_images6,  test_labels4, verbose=2)"
   ]
  },
  {
   "cell_type": "code",
   "execution_count": 23,
   "metadata": {},
   "outputs": [],
   "source": [
    "#plt.plot(values, test_acc)\n",
    "#plt.plot('Noise level')"
   ]
  },
  {
   "cell_type": "markdown",
   "metadata": {},
   "source": []
  },
  {
   "cell_type": "markdown",
   "metadata": {},
   "source": [
    "# Training the network on a singular 'clean' simulated neutrino image and a singular 'electronic noise' 'empty' slice image:"
   ]
  },
  {
   "cell_type": "code",
   "execution_count": 24,
   "metadata": {},
   "outputs": [],
   "source": [
    "# Setting out the testing images and labels (9999 x 2)\n",
    "\n",
    "images3 = np.flip(np.resize(np.flip(images), (9999, 100, 100)))\n",
    "blanks3 = np.zeros_like(images3)\n",
    "\n",
    "images3_labels = np.ones(9999)\n",
    "Enoise3_labels = np.zeros(9999)\n",
    "\n",
    "# Setting out the training images and labels (1 x 2)\n",
    "\n",
    "images4 = np.resize(images, (1, 100, 100))\n",
    "blanks4 = np.zeros_like(images4)\n",
    "\n",
    "images4_labels = np.ones(1)\n",
    "Enoise4_labels = np.zeros(1)\n",
    "\n",
    "# Noise = 0\n",
    "\n",
    "Enoise10 = add_noise(blanks3,0)\n",
    "Enoise11 = add_noise(blanks4,0)\n",
    "\n",
    "# Noise = 5\n",
    "\n",
    "Enoise12 = add_noise(blanks3,5)\n",
    "Enoise13 = add_noise(blanks4,5)\n",
    "\n",
    "# Noise = 10\n",
    "\n",
    "Enoise14 = add_noise(blanks3,10)\n",
    "Enoise15 = add_noise(blanks4,10)\n",
    "\n",
    "# Noise = 15\n",
    "\n",
    "Enoise16 = add_noise(blanks3,15)\n",
    "Enoise17 = add_noise(blanks4,15)\n",
    "\n",
    "train_images7 = np.concatenate((images4, Enoise11), axis=0)\n",
    "train_images8 = np.concatenate((images4, Enoise13), axis=0)\n",
    "train_images9 = np.concatenate((images4, Enoise15), axis=0)\n",
    "train_images10 = np.concatenate((images4, Enoise17), axis=0)\n",
    "\n",
    "train_labels5 = np.concatenate((images4_labels, Enoise4_labels), axis=0)\n",
    "\n",
    "\n",
    "\n",
    "test_images7 = np.concatenate((images3, Enoise10))\n",
    "test_images8 = np.concatenate((images3, Enoise12))\n",
    "test_images9 = np.concatenate((images3, Enoise14))\n",
    "test_images10 = np.concatenate((images3, Enoise16))\n",
    "\n",
    "test_labels5 = np.concatenate((images3_labels, Enoise3_labels), axis=0)"
   ]
  },
  {
   "cell_type": "markdown",
   "metadata": {},
   "source": [
    "Training Noise = 0:"
   ]
  },
  {
   "cell_type": "code",
   "execution_count": 25,
   "metadata": {},
   "outputs": [
    {
     "name": "stdout",
     "output_type": "stream",
     "text": [
      "1/1 [==============================] - 2s 2s/step - loss: 0.0011 - accuracy: 1.0000\n"
     ]
    }
   ],
   "source": [
    "history=model.fit(train_images7, train_labels5,batch_size=100, epochs=1)"
   ]
  },
  {
   "cell_type": "code",
   "execution_count": 26,
   "metadata": {},
   "outputs": [
    {
     "name": "stdout",
     "output_type": "stream",
     "text": [
      "625/625 - 1s - loss: 1.1712 - accuracy: 0.7221\n"
     ]
    }
   ],
   "source": [
    "test_loss, test_acc = model.evaluate(test_images7,  test_labels5, verbose=2)"
   ]
  },
  {
   "cell_type": "markdown",
   "metadata": {},
   "source": [
    "Training Noise = 5:"
   ]
  },
  {
   "cell_type": "code",
   "execution_count": 27,
   "metadata": {},
   "outputs": [
    {
     "name": "stdout",
     "output_type": "stream",
     "text": [
      "1/1 [==============================] - 0s 10ms/step - loss: 0.0000e+00 - accuracy: 1.0000\n"
     ]
    }
   ],
   "source": [
    "history=model.fit(train_images8, train_labels5,batch_size=100, epochs=1)"
   ]
  },
  {
   "cell_type": "code",
   "execution_count": 28,
   "metadata": {},
   "outputs": [
    {
     "name": "stdout",
     "output_type": "stream",
     "text": [
      "625/625 - 1s - loss: 1.7776e-05 - accuracy: 1.0000\n"
     ]
    }
   ],
   "source": [
    "test_loss, test_acc = model.evaluate(test_images8,  test_labels5, verbose=2)"
   ]
  },
  {
   "cell_type": "markdown",
   "metadata": {},
   "source": [
    "Training Noise = 10:"
   ]
  },
  {
   "cell_type": "code",
   "execution_count": 29,
   "metadata": {},
   "outputs": [
    {
     "name": "stdout",
     "output_type": "stream",
     "text": [
      "1/1 [==============================] - 0s 22ms/step - loss: 0.0000e+00 - accuracy: 1.0000\n"
     ]
    }
   ],
   "source": [
    "history=model.fit(train_images9, train_labels5,batch_size=100, epochs=1)"
   ]
  },
  {
   "cell_type": "code",
   "execution_count": 30,
   "metadata": {},
   "outputs": [
    {
     "name": "stdout",
     "output_type": "stream",
     "text": [
      "625/625 - 2s - loss: 1.7766e-05 - accuracy: 1.0000\n"
     ]
    }
   ],
   "source": [
    "test_loss, test_acc = model.evaluate(test_images9,  test_labels5, verbose=2)"
   ]
  },
  {
   "cell_type": "markdown",
   "metadata": {},
   "source": [
    "Training Noise = 15:"
   ]
  },
  {
   "cell_type": "code",
   "execution_count": 31,
   "metadata": {},
   "outputs": [
    {
     "name": "stdout",
     "output_type": "stream",
     "text": [
      "1/1 [==============================] - 0s 9ms/step - loss: 0.0000e+00 - accuracy: 1.0000\n"
     ]
    }
   ],
   "source": [
    "history=model.fit(train_images10, train_labels5,batch_size=100, epochs=1)"
   ]
  },
  {
   "cell_type": "code",
   "execution_count": 32,
   "metadata": {},
   "outputs": [
    {
     "name": "stdout",
     "output_type": "stream",
     "text": [
      "625/625 - 1s - loss: 1.7757e-05 - accuracy: 1.0000\n"
     ]
    }
   ],
   "source": [
    "test_loss, test_acc = model.evaluate(test_images10,  test_labels5, verbose=2)"
   ]
  },
  {
   "cell_type": "markdown",
   "metadata": {},
   "source": [
    "# 3) Test your machine learning classifier on simulated neutrinos overlaid with noise, what level of additional noise starts to impact your machine learning algorithm"
   ]
  },
  {
   "cell_type": "code",
   "execution_count": 33,
   "metadata": {
    "scrolled": false
   },
   "outputs": [],
   "source": [
    "\n",
    "# Replace the standard neutrino images for ones overlaid with noise and repeat\n",
    "# the training and testing method from previous task\n",
    "\n",
    "noisy_image_labels = np.ones(10000)\n",
    "noise_labels = np.zeros(10000)\n",
    "\n",
    "noisy_images1 = add_noise(images, 5)\n",
    "\n",
    "blanks_new = np.zeros_like(noisy_images1)\n",
    "\n",
    "noisy_blanks1 = add_noise(blanks_new, 5)\n",
    "\n",
    "train_images_noise1 = np.concatenate((noisy_images1, noisy_blanks1), axis=0)\n",
    "\n",
    "train_labels_noise = np.concatenate((noisy_image_labels, noise_labels), axis=0)\n",
    "\n",
    "train_images_noise1, train_labels_noise1 = unison_shuffled_copies(train_images_noise1, train_labels_noise)\n",
    "\n",
    "test_images_noise1, test_labels_noise1 = unison_shuffled_copies(train_images_noise1, train_labels_noise)\n",
    "\n",
    "# Reshape to 4 dimensions for keras\n",
    "\n",
    "train_images_noise1 = train_images_noise1.reshape(20000, 100, 100, 1)\n"
   ]
  },
  {
   "cell_type": "markdown",
   "metadata": {},
   "source": [
    "Training Noise = 5"
   ]
  },
  {
   "cell_type": "code",
   "execution_count": 34,
   "metadata": {},
   "outputs": [
    {
     "name": "stdout",
     "output_type": "stream",
     "text": [
      "Epoch 1/10\n",
      "200/200 [==============================] - 1s 5ms/step - loss: 41.2843 - accuracy: 0.5074A: 0s - loss: 131.4898 - ac\n",
      "Epoch 2/10\n",
      "200/200 [==============================] - 1s 4ms/step - loss: 0.8526 - accuracy: 0.5122\n",
      "Epoch 3/10\n",
      "200/200 [==============================] - 1s 4ms/step - loss: 0.8052 - accuracy: 0.5209\n",
      "Epoch 4/10\n",
      "200/200 [==============================] - 1s 5ms/step - loss: 0.7550 - accuracy: 0.5236\n",
      "Epoch 5/10\n",
      "200/200 [==============================] - 1s 4ms/step - loss: 0.7380 - accuracy: 0.5293\n",
      "Epoch 6/10\n",
      "200/200 [==============================] - 1s 4ms/step - loss: 0.7076 - accuracy: 0.5426\n",
      "Epoch 7/10\n",
      "200/200 [==============================] - 1s 4ms/step - loss: 0.7079 - accuracy: 0.5397\n",
      "Epoch 8/10\n",
      "200/200 [==============================] - 1s 3ms/step - loss: 0.6971 - accuracy: 0.5441\n",
      "Epoch 9/10\n",
      "200/200 [==============================] - 1s 4ms/step - loss: 0.6926 - accuracy: 0.5537\n",
      "Epoch 10/10\n",
      "200/200 [==============================] - 1s 4ms/step - loss: 0.7017 - accuracy: 0.5361\n"
     ]
    }
   ],
   "source": [
    "history=model.fit(train_images_noise1, train_labels_noise,batch_size=100, epochs=10)"
   ]
  },
  {
   "cell_type": "code",
   "execution_count": 35,
   "metadata": {},
   "outputs": [
    {
     "name": "stdout",
     "output_type": "stream",
     "text": [
      "625/625 - 1s - loss: 0.6942 - accuracy: 0.5110\n"
     ]
    }
   ],
   "source": [
    "test_loss, test_acc = model.evaluate(test_images_noise1,  test_labels_noise1, verbose=2)"
   ]
  },
  {
   "cell_type": "code",
   "execution_count": 36,
   "metadata": {},
   "outputs": [],
   "source": [
    "images1 = np.resize(images, (5000, 100, 100))\n",
    "\n",
    "images2 = np.flip(np.resize(np.flip(images), (5000,100,100)))\n",
    "\n",
    "noisy_image_labels = np.ones(5000)\n",
    "noise_labels = np.zeros(5000)\n",
    "\n",
    "noisy_images1 = add_noise(images1, 5)\n",
    "noisy_images2 = add_noise(images2, 5)\n",
    "\n",
    "blanks_new = np.zeros_like(images1)\n",
    "\n",
    "noisy_blanks = add_noise(blanks_new, 5)\n",
    "\n",
    "train_images_split = np.concatenate((noisy_images1, noisy_blanks), axis=0)\n",
    "train_labels_split = np.concatenate((noisy_image_labels, noise_labels))\n",
    "\n",
    "test_images_split = np.concatenate((noisy_images2, noisy_blanks))\n",
    "test_labels_split = np.concatenate((noisy_image_labels, noise_labels))\n",
    "\n",
    "#train_images_split = train_images_split.reshape(20000, 100, 100, 1)"
   ]
  },
  {
   "cell_type": "markdown",
   "metadata": {},
   "source": [
    "Training Noise = 5"
   ]
  },
  {
   "cell_type": "code",
   "execution_count": 37,
   "metadata": {},
   "outputs": [
    {
     "name": "stdout",
     "output_type": "stream",
     "text": [
      "Epoch 1/10\n",
      "313/313 [==============================] - 2s 8ms/step - loss: 0.5032 - accuracy: 0.7263 - val_loss: 0.2864 - val_accuracy: 0.8773\n",
      "Epoch 2/10\n",
      "313/313 [==============================] - 1s 4ms/step - loss: 0.2440 - accuracy: 0.9135 - val_loss: 0.9033 - val_accuracy: 0.5077\n",
      "Epoch 3/10\n",
      "313/313 [==============================] - 1s 4ms/step - loss: 0.1728 - accuracy: 0.9432 - val_loss: 0.0579 - val_accuracy: 0.9972\n",
      "Epoch 4/10\n",
      "313/313 [==============================] - 1s 4ms/step - loss: 0.3683 - accuracy: 0.9187 - val_loss: 0.2061 - val_accuracy: 0.9982\n",
      "Epoch 5/10\n",
      "313/313 [==============================] - 1s 4ms/step - loss: 0.0676 - accuracy: 0.9865 - val_loss: 0.0214 - val_accuracy: 0.9994\n",
      "Epoch 6/10\n",
      "313/313 [==============================] - 1s 4ms/step - loss: 0.0396 - accuracy: 0.9872 - val_loss: 0.0122 - val_accuracy: 0.9982\n",
      "Epoch 7/10\n",
      "313/313 [==============================] - 1s 4ms/step - loss: 0.1030 - accuracy: 0.9842 - val_loss: 0.4089 - val_accuracy: 0.8203\n",
      "Epoch 8/10\n",
      "313/313 [==============================] - 1s 4ms/step - loss: 0.0919 - accuracy: 0.9720 - val_loss: 0.0226 - val_accuracy: 0.9938\n",
      "Epoch 9/10\n",
      "313/313 [==============================] - 1s 4ms/step - loss: 0.0697 - accuracy: 0.9869 - val_loss: 0.0529 - val_accuracy: 0.9850\n",
      "Epoch 10/10\n",
      "313/313 [==============================] - 1s 4ms/step - loss: 0.0088 - accuracy: 0.9998 - val_loss: 0.0075 - val_accuracy: 0.9992\n"
     ]
    }
   ],
   "source": [
    "history = model.fit(train_images_split, train_labels_split, epochs=10, \n",
    "                    validation_data=(test_images_split, test_labels_split))"
   ]
  },
  {
   "cell_type": "code",
   "execution_count": 38,
   "metadata": {},
   "outputs": [
    {
     "name": "stdout",
     "output_type": "stream",
     "text": [
      "313/313 - 0s - loss: 0.0075 - accuracy: 0.9992\n"
     ]
    }
   ],
   "source": [
    "test_loss, test_acc = model.evaluate(test_images_split,  test_labels_split, verbose=2)"
   ]
  },
  {
   "cell_type": "markdown",
   "metadata": {},
   "source": [
    "# Analysing the effect of noise on images to be classified by the model when trained on different levels of noise: \n",
    "\n",
    "### (50-50 image array split method):"
   ]
  },
  {
   "attachments": {
    "overlaid%20graph.PNG": {
     "image/png": "[encoded data removed]"
    }
   },
   "cell_type": "markdown",
   "metadata": {},
   "source": [
    "Due to technical issues involving ram the final running of this cell wasn't possible, how the plot should look is represented in figure 6 of the associated report with this notebook:\n",
    "\n",
    "![overlaid%20graph.PNG](attachment:overlaid%20graph.PNG)"
   ]
  },
  {
   "cell_type": "code",
   "execution_count": 39,
   "metadata": {
    "scrolled": false
   },
   "outputs": [
    {
     "ename": "MemoryError",
     "evalue": "Unable to allocate 763. MiB for an array with shape (10000, 100, 100) and data type float64",
     "output_type": "error",
     "traceback": [
      "\u001b[1;31m---------------------------------------------------------------------------\u001b[0m",
      "\u001b[1;31mMemoryError\u001b[0m                               Traceback (most recent call last)",
      "\u001b[1;32m<ipython-input-39-a1bc308d7285>\u001b[0m in \u001b[0;36m<module>\u001b[1;34m\u001b[0m\n\u001b[0;32m     52\u001b[0m     \u001b[1;31m# Create noisy test images to evaluate\u001b[0m\u001b[1;33m\u001b[0m\u001b[1;33m\u001b[0m\u001b[1;33m\u001b[0m\u001b[0m\n\u001b[0;32m     53\u001b[0m \u001b[1;33m\u001b[0m\u001b[0m\n\u001b[1;32m---> 54\u001b[1;33m         \u001b[0mnoisy_test\u001b[0m \u001b[1;33m=\u001b[0m \u001b[0madd_noise\u001b[0m\u001b[1;33m(\u001b[0m\u001b[0mtest_images_final\u001b[0m\u001b[1;33m,\u001b[0m \u001b[0mj\u001b[0m\u001b[1;33m)\u001b[0m\u001b[1;33m\u001b[0m\u001b[1;33m\u001b[0m\u001b[0m\n\u001b[0m\u001b[0;32m     55\u001b[0m         \u001b[0mtest_loss\u001b[0m\u001b[1;33m,\u001b[0m \u001b[0mtest_acc\u001b[0m \u001b[1;33m=\u001b[0m \u001b[0mmodel\u001b[0m\u001b[1;33m.\u001b[0m\u001b[0mevaluate\u001b[0m\u001b[1;33m(\u001b[0m\u001b[0mnoisy_test\u001b[0m\u001b[1;33m,\u001b[0m \u001b[0mtest_labels_final\u001b[0m\u001b[1;33m,\u001b[0m \u001b[0mverbose\u001b[0m\u001b[1;33m=\u001b[0m\u001b[1;36m0\u001b[0m\u001b[1;33m)\u001b[0m\u001b[1;33m\u001b[0m\u001b[1;33m\u001b[0m\u001b[0m\n\u001b[0;32m     56\u001b[0m         \u001b[0mtest_accuracy\u001b[0m\u001b[1;33m.\u001b[0m\u001b[0mappend\u001b[0m\u001b[1;33m(\u001b[0m\u001b[0mtest_acc\u001b[0m\u001b[1;33m)\u001b[0m\u001b[1;33m\u001b[0m\u001b[1;33m\u001b[0m\u001b[0m\n",
      "\u001b[1;32m<ipython-input-7-f63c60179730>\u001b[0m in \u001b[0;36madd_noise\u001b[1;34m(images, y_noise)\u001b[0m\n\u001b[0;32m      5\u001b[0m     given image'''\n\u001b[0;32m      6\u001b[0m \u001b[1;33m\u001b[0m\u001b[0m\n\u001b[1;32m----> 7\u001b[1;33m     \u001b[0mimages_noise\u001b[0m \u001b[1;33m=\u001b[0m \u001b[0mimages\u001b[0m \u001b[1;33m+\u001b[0m \u001b[0mnp\u001b[0m\u001b[1;33m.\u001b[0m\u001b[0mrandom\u001b[0m\u001b[1;33m.\u001b[0m\u001b[0mnormal\u001b[0m\u001b[1;33m(\u001b[0m\u001b[0mloc\u001b[0m\u001b[1;33m=\u001b[0m\u001b[0my_noise\u001b[0m\u001b[1;33m,\u001b[0m \u001b[0mscale\u001b[0m\u001b[1;33m=\u001b[0m\u001b[1;36m1.0\u001b[0m\u001b[1;33m,\u001b[0m \u001b[0msize\u001b[0m\u001b[1;33m=\u001b[0m\u001b[0mimages\u001b[0m\u001b[1;33m.\u001b[0m\u001b[0mshape\u001b[0m\u001b[1;33m)\u001b[0m\u001b[1;33m\u001b[0m\u001b[1;33m\u001b[0m\u001b[0m\n\u001b[0m\u001b[0;32m      8\u001b[0m \u001b[1;33m\u001b[0m\u001b[0m\n\u001b[0;32m      9\u001b[0m     \u001b[1;32mreturn\u001b[0m \u001b[0mimages_noise\u001b[0m\u001b[1;33m\u001b[0m\u001b[1;33m\u001b[0m\u001b[0m\n",
      "\u001b[1;31mMemoryError\u001b[0m: Unable to allocate 763. MiB for an array with shape (10000, 100, 100) and data type float64"
     ]
    },
    {
     "data": {
      "image/png": "[encoded data removed]",
      "text/plain": [
       "<Figure size 1152x648 with 1 Axes>"
      ]
     },
     "metadata": {
      "needs_background": "light"
     },
     "output_type": "display_data"
    }
   ],
   "source": [
    "blanks_final = np.zeros_like(images1)\n",
    "train_images_final = np.concatenate((images1, blanks_final), axis=0)\n",
    "train_labels_final = np.concatenate((noisy_image_labels, noise_labels), axis=0)\n",
    "test_images_final = np.concatenate((images2, blanks_final), axis=0)\n",
    "test_labels_final = np.concatenate((noisy_image_labels, noise_labels),axis=0)\n",
    "def training_noise(noise):\n",
    "    '''\n",
    "    This function does the following: \n",
    "    Implement image noise > Compile the model > Fit the model\n",
    "    The input is the noise level\n",
    "    '''\n",
    "\n",
    "  # Create new images with noise and compile the model\n",
    "\n",
    "    noisy_train = add_noise(train_images_final, noise)\n",
    "    model.compile(loss=tf.keras.losses.SparseCategoricalCrossentropy(from_logits=True),optimizer='adam',metrics=['accuracy'])\n",
    "  \n",
    "  # Train model with noisy images\n",
    "  \n",
    "    history=model.fit(noisy_train, train_labels_final,batch_size=100, epochs=10, verbose=0) \n",
    "\n",
    "    return history\n",
    "\n",
    "# Evaluate each model\n",
    "\n",
    "# Take noise values for training from 0-15 in intervals of 5\n",
    "\n",
    "# Set steps for training noises\n",
    "\n",
    "train_noise = np.linspace(0,15,4)\n",
    "fig,ax=plt.subplots(1,1, squeeze=False, figsize=(16,9)) # Create figure for each curves\n",
    "\n",
    "# Make curves distinguishable\n",
    "\n",
    "colors = ['blue', 'red', 'green', 'yellow','pink', 'purple', 'orange', 'black','brown', 'lime', 'gray']\n",
    "\n",
    "# Iterate on different train noise values and their count \"i\"\n",
    "\n",
    "# Python enumerate(): Simplify Looping With Countershttps://realpython.com › python-enumerate\n",
    "# This allows us to iterate on different training noise values and their count \"i\"\n",
    "\n",
    "for i, noise in enumerate(train_noise):\n",
    "\n",
    "    history = training_noise(noise)   # Call function above\n",
    "    test_noise = np.linspace(0,30,100) # test_noise array\n",
    "    test_accuracy = []\n",
    "\n",
    "  # Iterating over test noises\n",
    "\n",
    "    for j in test_noise:\n",
    "    \n",
    "    # Create noisy test images to evaluate\n",
    "\n",
    "        noisy_test = add_noise(test_images_final, j)\n",
    "        test_loss, test_acc = model.evaluate(noisy_test, test_labels_final, verbose=0)\n",
    "        test_accuracy.append(test_acc)\n",
    "  \n",
    "  # Compare the different training noise curves \n",
    "\n",
    "    ax[0,0].plot(test_noise, test_accuracy, linewidth=2, color= colors[i], label=\"Training Noise: {:.2f}\".format(noise))\n",
    "    ax[0,0].set_title('Test Accuracy vs Test Noise (Different Training Noises)')\n",
    "    ax[0,0].set_xlabel(\"Test Noise\")\n",
    "    ax[0,0].set_ylabel(\"Test Accuracy\")\n",
    "    ax[0,0].legend()"
   ]
  },
  {
   "cell_type": "markdown",
   "metadata": {},
   "source": [
    "### (Total image array shuffle method):"
   ]
  },
  {
   "cell_type": "code",
   "execution_count": null,
   "metadata": {},
   "outputs": [],
   "source": [
    "blanks = np.zeros_like(images)\n",
    "\n",
    "training_images = np.concatenate((images, blanks), axis=0)\n",
    "training_labels = np.concatenate((image_labels, Enoise_labels), axis=0)\n",
    "\n",
    "testing_images, testing_labels = unison_shuffled_copies(training_images, training_labels)\n",
    "\n",
    "def training_noise(noise):\n",
    "    '''\n",
    "    This function does the following: \n",
    "    Implement image noise > Compile the model > Fit the model\n",
    "    The input is the noise level\n",
    "    '''\n",
    "\n",
    "  # Create new images with noise and compile the model\n",
    "\n",
    "    noisy_train = add_noise(training_images, noise)\n",
    "    model.compile(loss=tf.keras.losses.SparseCategoricalCrossentropy(from_logits=True),optimizer='adam',metrics=['accuracy'])\n",
    "  \n",
    "  # Train model with noisy images\n",
    "  \n",
    "    history=model.fit(noisy_train, training_labels,batch_size=100, epochs=10, verbose=0) \n",
    "\n",
    "    return history\n",
    "\n",
    "# Evaluate each model\n",
    "\n",
    "# Take noise values for training from 0-15 in intervals of 5\n",
    "\n",
    "# Set steps for training noises\n",
    "\n",
    "train_noise = np.linspace(0,15,4)\n",
    "fig,ax=plt.subplots(1,1, squeeze=False, figsize=(16,9)) # Create figure for each curves\n",
    "\n",
    "# Make curves distinguishable\n",
    "\n",
    "colors = ['blue', 'red', 'green', 'yellow','pink', 'purple', 'orange', 'black','brown', 'lime', 'gray']\n",
    "\n",
    "# Iterate on different train noise values and their count \"i\"\n",
    "\n",
    "# Python enumerate(): Simplify Looping With Countershttps://realpython.com › python-enumerate\n",
    "# This allows us to iterate on different training noise values and their count \"i\"\n",
    "\n",
    "for i, noise in enumerate(train_noise):\n",
    "\n",
    "    history = training_noise(noise)   # Call function above\n",
    "    test_noise = np.linspace(0,30,100) # test_noise array\n",
    "    test_accuracy = []\n",
    "\n",
    "  # Iterating over test noises\n",
    "\n",
    "    for j in test_noise:\n",
    "    \n",
    "    # Create noisy test images to evaluate\n",
    "\n",
    "        noisy_test = add_noise(testing_images, j)\n",
    "        test_loss, test_acc = model.evaluate(noisy_test, testing_labels, verbose=0)\n",
    "        test_accuracy.append(test_acc)\n",
    "  \n",
    "  # Compare the different training noise curves \n",
    "\n",
    "    ax[0,0].plot(test_noise, test_accuracy, linewidth=2, color= colors[i], label=\"Training Noise: {:.2f}\".format(noise))\n",
    "    ax[0,0].set_title('Test Accuracy vs Test Noise (Different Training Noises)')\n",
    "    ax[0,0].set_xlabel(\"Test Noise\")\n",
    "    ax[0,0].set_ylabel(\"Test Accuracy\")\n",
    "    ax[0,0].legend()"
   ]
  }
 ],
 "metadata": {
  "kernelspec": {
   "display_name": "Python 3",
   "language": "python",
   "name": "python3"
  },
  "language_info": {
   "codemirror_mode": {
    "name": "ipython",
    "version": 3
   },
   "file_extension": ".py",
   "mimetype": "text/x-python",
   "name": "python",
   "nbconvert_exporter": "python",
   "pygments_lexer": "ipython3",
   "version": "3.8.3"
  }
 },
 "nbformat": 4,
 "nbformat_minor": 4
}
