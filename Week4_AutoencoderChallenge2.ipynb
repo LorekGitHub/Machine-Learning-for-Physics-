{
 "cells": [
  {
   "cell_type": "markdown",
   "metadata": {},
   "source": [
    "# Practical Machine Learning for Physicists\n"
   ]
  },
  {
   "cell_type": "markdown",
   "metadata": {},
   "source": [
    "For both of these tasks we want you to implement autoencoder networks that:\n",
    "- Train on randomly generated circles (using the circle_generator function below)\n",
    "- Use 27x27 pixel images\n",
    "- Use no more than 30,000 randomly generated samples (e.g. batchsize 30 and 1000 steps, or batchsize 1000 and 30 steps, or anywhere inbetween) in training the final networks for each task\n",
    "- Use the mean_squared_error loss function\n",
    "- Fulfil the network size requirement listed in the task (can be verifired using the print_layers function, after the network is partially trained)\n",
    "\n",
    "### Task 1:\n",
    "Implement any network design, but the bottleneck must contain no more than 9 neurons.\n",
    "\n",
    "### Task 2:\n",
    "Implement any network design, but the bottleneck must contain no more than 3 neurons.\n",
    "\n",
    "\n",
    "\n",
    "#### Practicalities\n",
    "You should use this notebook for your work and upload it to both Moodle and CoCalc. You are expected to use TensorFlow and Keras to complete these tasks. The notebook should be self-contained and able to be executed if necessary. Marks will be awarded for (roughly equally weighted):\n",
    "- Overall notebook clarity (both in terms of good coding practice and coherent discussion)\n",
    "- Task 1 performance (0.02 is a good target cost to do better than)\n",
    "- Task 2 performance ( a good target here is left for the student to determine)\n",
    "\n"
   ]
  },
  {
   "cell_type": "code",
   "execution_count": 1,
   "metadata": {},
   "outputs": [],
   "source": [
    "import matplotlib.pyplot as plt\n",
    "import numpy as np\n",
    "import math\n",
    "\n",
    "# TensorFlow and tf.keras\n",
    "import tensorflow as tf\n",
    "from tensorflow import keras\n",
    "\n",
    "import matplotlib.style #Some style nonsense\n",
    "import matplotlib as mpl #Some more style nonsense"
   ]
  },
  {
   "cell_type": "code",
   "execution_count": 2,
   "metadata": {},
   "outputs": [],
   "source": [
    "#A big messy function to do the training\n",
    "# model -- our keras neural model autoencoder\n",
    "# image_generator -- a function to generate random images for the training (see below for examples)\n",
    "# img_size -- the size of our image in pixels\n",
    "# batchsize -- the number of images to include in each training batch\n",
    "# steps -- the number of steps taken in the training\n",
    "#\n",
    "# returns an array of the costs\n",
    "def generate_and_train(model,image_generator,img_size,batchsize,steps):\n",
    "   \n",
    "    #Generate an array of the numbers 1 to img_size and create a meshgrid from them    \n",
    "    pixels=np.linspace(-1,1,img_size)\n",
    "    x,y=np.meshgrid(pixels,pixels)\n",
    "    \n",
    "    #Now create a test image using 1 call to image_generator\n",
    "    #y_test=np.zeros([1,pixels,pixels,1])\n",
    "    #y_test[:,:,:,0]=image_generator(1,x,y)\n",
    "    \n",
    "    #Now create the empty arrays for the images and cost\n",
    "    y_in=np.zeros([batchsize,img_size,img_size,1])\n",
    "    y_target=np.zeros([batchsize,img_size,img_size,1])\n",
    "    cost=np.zeros(steps)\n",
    "    \n",
    "    #Loop through the steps, get a random batch of samples, train the model, repeat\n",
    "    for k in range(steps):\n",
    "        # produce samples:\n",
    "        y_in[:,:,:,0]=image_generator(batchsize,x,y)\n",
    "        y_target=np.copy(y_in) # autoencoder wants to reproduce its input!\n",
    "        \n",
    "        # do one training step on this batch of samples:\n",
    "        cost[k]=model.train_on_batch(y_in,y_target)\n",
    "    \n",
    "    return cost,y_target\n",
    "\n",
    "def get_test_image(image_generator,img_size):\n",
    "    #Generate an array of the numbers 1 to img_size and create a meshgrid from them    \n",
    "    pixels=np.linspace(-1,1,img_size)\n",
    "    x,y=np.meshgrid(pixels,pixels)\n",
    "    \n",
    "    #Now create a test image using 1 call to image_generator\n",
    "    y_test=np.zeros([1,img_size,img_size,1])\n",
    "    y_test[:,:,:,0]=image_generator(1,x,y)\n",
    "    return y_test\n",
    "\n",
    "# A function to generate and plot a single test image and the output of our model\n",
    "# only to be called after training the model\n",
    "def plot_test_image(model,image_generator,img_size):\n",
    "    #Get random test image\n",
    "    y_test=get_test_image(image_generator,img_size)\n",
    "    \n",
    "    #Create the output image\n",
    "    y_test_out=model.predict_on_batch(y_test)\n",
    "    fig, ax = plt.subplots(1,2)\n",
    "    ax[0].imshow(y_test[0,:,:,0],origin='lower')\n",
    "    ax[0].set_title(\"Input\")\n",
    "    ax[1].imshow(y_test_out[0,:,:,0],origin='lower')\n",
    "    ax[1].set_title(\"Output\")\n",
    "    \n",
    "def print_layers(network, y_in):\n",
    "    \"\"\"\n",
    "    Call this on some test images y_in, to get a print-out of\n",
    "    the layer sizes. Shapes shown are (batchsize,pixels,pixels,channels).\n",
    "    After a call to the visualization routine, y_target will contain\n",
    "    the last set of training images, so you could feed those in here.\n",
    "    \"\"\"\n",
    "    layer_features=get_layer_activations(network,y_in)\n",
    "    #print(layer_features)\n",
    "    for idx,feature in enumerate(layer_features):\n",
    "        s=np.shape(feature)\n",
    "        print(\"Layer \"+str(idx)+\": \"+str(s[1]*s[2]*s[3])+\" neurons / \", s)\n",
    "\n",
    "def get_layer_activation_extractor(network):\n",
    "    #print(network.inputs)\n",
    "    #for layer in network.layers:\n",
    "    #    print(layer.output)\n",
    "    return(keras.Model(inputs=network.inputs,\n",
    "                            outputs=[layer.output for layer in network.layers]))\n",
    "\n",
    "def get_layer_activations(network, y_in):\n",
    "    \"\"\"\n",
    "    Call this on some test images y_in, to get the intermediate \n",
    "    layer neuron values. These are returned in a list, with one\n",
    "    entry for each layer (the entries are arrays).\n",
    "    \"\"\"\n",
    "    extractor=get_layer_activation_extractor(network)\n",
    "    #print(extractor)\n",
    "    layer_features = extractor(y_in)\n",
    "    return layer_features\n",
    "    "
   ]
  },
  {
   "cell_type": "markdown",
   "metadata": {},
   "source": [
    "## Circle generator\n"
   ]
  },
  {
   "cell_type": "code",
   "execution_count": 3,
   "metadata": {},
   "outputs": [],
   "source": [
    "# A simple image generator that returns an array of batchsize images\n",
    "# each image has a size of x * y pixels\n",
    "# in this image each image has a randomly placed circle (and the circle is of random size)\n",
    "def circle_generator(batchsize,x,y):\n",
    "    R=np.random.uniform(size=batchsize)\n",
    "    x0=np.random.uniform(size=batchsize,low=-1,high=1)\n",
    "    y0=np.random.uniform(size=batchsize,low=-1,high=1)\n",
    "    return( 1.0*((x[None,:,:]-x0[:,None,None])**2 + (y[None,:,:]-y0[:,None,None])**2 < R[:,None,None]**2) )\n"
   ]
  },
  {
   "cell_type": "markdown",
   "metadata": {},
   "source": [
    "# Task 1:\n",
    "\n",
    "Creating an autoencoder model with the purpose of replicating a randomly generated 27x27 pixel circle using a bottleneck consisting of no more than 9 neurons."
   ]
  },
  {
   "cell_type": "code",
   "execution_count": 6,
   "metadata": {},
   "outputs": [
    {
     "name": "stdout",
     "output_type": "stream",
     "text": [
      "0.009827881120145321\n",
      "Model: \"sequential_2\"\n",
      "_________________________________________________________________\n",
      "Layer (type)                 Output Shape              Param #   \n",
      "=================================================================\n",
      "conv2d_12 (Conv2D)           (None, 21, 21, 27)        1350      \n",
      "_________________________________________________________________\n",
      "max_pooling2d_5 (MaxPooling2 (None, 7, 7, 27)          0         \n",
      "_________________________________________________________________\n",
      "conv2d_13 (Conv2D)           (None, 7, 7, 16)          21184     \n",
      "_________________________________________________________________\n",
      "max_pooling2d_6 (MaxPooling2 (None, 3, 3, 16)          0         \n",
      "_________________________________________________________________\n",
      "conv2d_14 (Conv2D)           (None, 3, 3, 1)           145       \n",
      "_________________________________________________________________\n",
      "up_sampling2d_5 (UpSampling2 (None, 9, 9, 1)           0         \n",
      "_________________________________________________________________\n",
      "conv2d_15 (Conv2D)           (None, 9, 9, 16)          800       \n",
      "_________________________________________________________________\n",
      "up_sampling2d_6 (UpSampling2 (None, 27, 27, 16)        0         \n",
      "_________________________________________________________________\n",
      "conv2d_16 (Conv2D)           (None, 27, 27, 27)        21195     \n",
      "_________________________________________________________________\n",
      "conv2d_17 (Conv2D)           (None, 27, 27, 1)         244       \n",
      "=================================================================\n",
      "Total params: 44,918\n",
      "Trainable params: 44,918\n",
      "Non-trainable params: 0\n",
      "_________________________________________________________________\n",
      "Layer 0: 11907 neurons /  (30, 21, 21, 27)\n",
      "Layer 1: 1323 neurons /  (30, 7, 7, 27)\n",
      "Layer 2: 784 neurons /  (30, 7, 7, 16)\n",
      "Layer 3: 144 neurons /  (30, 3, 3, 16)\n",
      "Layer 4: 9 neurons /  (30, 3, 3, 1)\n",
      "Layer 5: 81 neurons /  (30, 9, 9, 1)\n",
      "Layer 6: 1296 neurons /  (30, 9, 9, 16)\n",
      "Layer 7: 11664 neurons /  (30, 27, 27, 16)\n",
      "Layer 8: 19683 neurons /  (30, 27, 27, 27)\n",
      "Layer 9: 729 neurons /  (30, 27, 27, 1)\n"
     ]
    },
    {
     "data": {
      "image/png": "[encoded data removed]",
      "text/plain": [
       "<Figure size 432x288 with 1 Axes>"
      ]
     },
     "metadata": {
      "needs_background": "light"
     },
     "output_type": "display_data"
    },
    {
     "data": {
      "image/png": "[encoded data removed]",
      "text/plain": [
       "<Figure size 432x288 with 2 Axes>"
      ]
     },
     "metadata": {
      "needs_background": "light"
     },
     "output_type": "display_data"
    }
   ],
   "source": [
    "# Set up the model # 10 layers\n",
    "\n",
    "model = keras.models.Sequential()\n",
    "\n",
    "model.add(keras.layers.Conv2D(27,kernel_size=7,activation='relu',input_shape=(27,27,1))) \n",
    "# Down\n",
    "model.add(keras.layers.MaxPool2D(pool_size=(3,3),padding='same')) \n",
    "model.add(keras.layers.Conv2D(16,kernel_size=7,padding='same',activation='relu')) \n",
    "# Down\n",
    "model.add(keras.layers.MaxPool2D(pool_size=(3,3),padding='same'))\n",
    "model.add(keras.layers.Conv2D(1,3,\n",
    "                              activation=\"relu\",padding='same'))\n",
    "# Up\n",
    "model.add(keras.layers.UpSampling2D(size=(3,3))) \n",
    "model.add(keras.layers.Conv2D(16,kernel_size=7,\n",
    "                              activation=\"relu\",padding='same')) \n",
    "# Up\n",
    "model.add(keras.layers.UpSampling2D(size=(3,3))) \n",
    "model.add(keras.layers.Conv2D(27,kernel_size=7,\n",
    "                activation=\"relu\",padding='same'))\n",
    "model.add(keras.layers.Conv2D(1,3,activation=\"linear\",padding='same'))\n",
    "\n",
    "model.compile(loss='mean_squared_error', optimizer='adam')\n",
    "\n",
    "# Plot the cost function of the model\n",
    "\n",
    "cost,y_target=generate_and_train(model,circle_generator,img_size=9*3,batchsize=30,steps=1000) \n",
    "\n",
    "fig, ax = plt.subplots()\n",
    "stepArray=np.arange(1000)\n",
    "ax.plot(stepArray,cost,linewidth=3)\n",
    "ax.set_xlabel(\"Step Number\")\n",
    "ax.set_ylabel(\"Cost\")\n",
    "plt.title('Model Cost')\n",
    "print(cost[-1])\n",
    "\n",
    "# Plot images\n",
    "\n",
    "plot_test_image(model, circle_generator, 27)\n",
    "\n",
    "# Output important values describing the model\n",
    "\n",
    "model.summary()\n",
    "\n",
    "print_layers(model,y_target)"
   ]
  },
  {
   "cell_type": "markdown",
   "metadata": {},
   "source": [
    "This is a 10 layer model consisting of a 9-neuron bottleneck and a cost function of 0.00977821834385395, which is below the required 0.02 stated in the task prompt. The cost plot cleanly indicates a standard cost function decrease as the step number increases (30,000 samples used as stated as the limit). The image plots clearly display that the model was able to, with confidence, recreate a closely resembling image of the 'input' circle."
   ]
  },
  {
   "cell_type": "markdown",
   "metadata": {},
   "source": [
    "# Task 2:\n",
    "\n",
    "In order to ensure that as much information required to replicate the image can be encoded in 'latent space' as possible, it's important that the neurons per layer do not converge on 3 too abruptly i.e. it isn't ideal to have an incredibly large neuron difference between the bottleneck and the adjacent layers because the bottleneck won't be able to 'encode' efficiently i.e. it would be overloaded with information. It would be sensible to insert additional layers to graduate the neuron reduction so that one layer of incredibly low neuron count is not tasked with encoding a triple digit+ adjacent layer. A cost value of around factor 3 higher than that of the previous model would be an ideal target (0.0293) considering the factor 3 reduction in information capacity."
   ]
  },
  {
   "cell_type": "code",
   "execution_count": 5,
   "metadata": {
    "scrolled": false
   },
   "outputs": [
    {
     "name": "stdout",
     "output_type": "stream",
     "text": [
      "0.02699505351483822\n",
      "Model: \"sequential_1\"\n",
      "_________________________________________________________________\n",
      "Layer (type)                 Output Shape              Param #   \n",
      "=================================================================\n",
      "conv2d_6 (Conv2D)            (None, 23, 23, 16)        416       \n",
      "_________________________________________________________________\n",
      "max_pooling2d_2 (MaxPooling2 (None, 8, 8, 16)          0         \n",
      "_________________________________________________________________\n",
      "conv2d_7 (Conv2D)            (None, 8, 8, 12)          4812      \n",
      "_________________________________________________________________\n",
      "max_pooling2d_3 (MaxPooling2 (None, 3, 3, 12)          0         \n",
      "_________________________________________________________________\n",
      "conv2d_8 (Conv2D)            (None, 3, 3, 3)           327       \n",
      "_________________________________________________________________\n",
      "max_pooling2d_4 (MaxPooling2 (None, 1, 1, 3)           0         \n",
      "_________________________________________________________________\n",
      "up_sampling2d_2 (UpSampling2 (None, 3, 3, 3)           0         \n",
      "_________________________________________________________________\n",
      "conv2d_9 (Conv2D)            (None, 3, 3, 12)          336       \n",
      "_________________________________________________________________\n",
      "up_sampling2d_3 (UpSampling2 (None, 9, 9, 12)          0         \n",
      "_________________________________________________________________\n",
      "conv2d_10 (Conv2D)           (None, 9, 9, 16)          4816      \n",
      "_________________________________________________________________\n",
      "up_sampling2d_4 (UpSampling2 (None, 27, 27, 16)        0         \n",
      "_________________________________________________________________\n",
      "conv2d_11 (Conv2D)           (None, 27, 27, 1)         401       \n",
      "=================================================================\n",
      "Total params: 11,108\n",
      "Trainable params: 11,108\n",
      "Non-trainable params: 0\n",
      "_________________________________________________________________\n",
      "Layer 0: 8464 neurons /  (30, 23, 23, 16)\n",
      "Layer 1: 1024 neurons /  (30, 8, 8, 16)\n",
      "Layer 2: 768 neurons /  (30, 8, 8, 12)\n",
      "Layer 3: 108 neurons /  (30, 3, 3, 12)\n",
      "Layer 4: 27 neurons /  (30, 3, 3, 3)\n",
      "Layer 5: 3 neurons /  (30, 1, 1, 3)\n",
      "Layer 6: 27 neurons /  (30, 3, 3, 3)\n",
      "Layer 7: 108 neurons /  (30, 3, 3, 12)\n",
      "Layer 8: 972 neurons /  (30, 9, 9, 12)\n",
      "Layer 9: 1296 neurons /  (30, 9, 9, 16)\n",
      "Layer 10: 11664 neurons /  (30, 27, 27, 16)\n",
      "Layer 11: 729 neurons /  (30, 27, 27, 1)\n"
     ]
    },
    {
     "data": {
      "image/png": "[encoded data removed]",
      "text/plain": [
       "<Figure size 432x288 with 1 Axes>"
      ]
     },
     "metadata": {
      "needs_background": "light"
     },
     "output_type": "display_data"
    },
    {
     "data": {
      "image/png": "[encoded data removed]",
      "text/plain": [
       "<Figure size 432x288 with 2 Axes>"
      ]
     },
     "metadata": {
      "needs_background": "light"
     },
     "output_type": "display_data"
    }
   ],
   "source": [
    "# Set up the model # 12 layers\n",
    "\n",
    "model2 = keras.models.Sequential()\n",
    "\n",
    "model2.add(keras.layers.Conv2D(16,kernel_size=5,activation='relu',input_shape=(27,27,1))) \n",
    "# Down\n",
    "model2.add(keras.layers.MaxPool2D(pool_size=(3,3),padding='same')) \n",
    "model2.add(keras.layers.Conv2D(12,kernel_size=5,padding='same',activation='relu'))\n",
    "# Down\n",
    "model2.add(keras.layers.MaxPool2D(pool_size=(3,3),padding='same'))\n",
    "model2.add(keras.layers.Conv2D(3,kernel_size=3,\n",
    "                               activation=\"relu\",padding='same'))\n",
    "# Down\n",
    "model2.add(keras.layers.MaxPool2D(pool_size=(3,3),padding='same'))\n",
    "# Up\n",
    "model2.add(keras.layers.UpSampling2D(size=(3,3)))\n",
    "model2.add(keras.layers.Conv2D(12,kernel_size=3,\n",
    "                               activation=\"relu\",padding='same'))\n",
    "# Up\n",
    "model2.add(keras.layers.UpSampling2D(size=(3,3)))\n",
    "model2.add(keras.layers.Conv2D(16,kernel_size=5,\n",
    "                               activation=\"relu\",padding='same'))\n",
    "# Up\n",
    "model2.add(keras.layers.UpSampling2D(size=(3,3)))\n",
    "model2.add(keras.layers.Conv2D(1,kernel_size=5,activation=\"linear\",padding='same'))\n",
    "\n",
    "model2.compile(loss='mean_squared_error', optimizer='adam')\n",
    "\n",
    "# Plot the cost function of the model\n",
    "\n",
    "cost2,y_target2=generate_and_train(model2,circle_generator,img_size=9*3,batchsize=30,steps=1000)\n",
    "\n",
    "fig, ax = plt.subplots()\n",
    "stepArray=np.arange(1000)\n",
    "ax.plot(stepArray,cost2,linewidth=3)\n",
    "ax.set_xlabel(\"Step Number\")\n",
    "ax.set_ylabel(\"Cost\")\n",
    "plt.title('Model Cost')\n",
    "print(cost2[-1])\n",
    "\n",
    "# Plot image\n",
    "\n",
    "plot_test_image(model2,circle_generator,27)\n",
    "\n",
    "# Output important values describing the model\n",
    "\n",
    "model2.summary()\n",
    "\n",
    "print_layers(model2,y_target2)"
   ]
  },
  {
   "cell_type": "markdown",
   "metadata": {},
   "source": [
    "The bottleneck consisted of 3 neurons. This 3-neuron bottleneck model consists of 15,902 fewer total / trainable parameters than the previous model. This, in addition to the fact that 3 times less information can be 'stored' / encoded at the bottleneck axiomatically yields reasons as to why the cost function of this model is higher than the previous one, close to factor 3 higher. The image clearly lacks the accuracy of the previous model with the boundaries not being as clearly defined and so a cost function approximately (less than) factor 3 larger (0.02699505351483822) than that of the previous function is a success considering the reduction in neuron and thus information capacity at the bottleneck."
   ]
  }
 ],
 "metadata": {
  "kernelspec": {
   "display_name": "Python 3",
   "language": "python",
   "name": "python3"
  },
  "language_info": {
   "codemirror_mode": {
    "name": "ipython",
    "version": 3
   },
   "file_extension": ".py",
   "mimetype": "text/x-python",
   "name": "python",
   "nbconvert_exporter": "python",
   "pygments_lexer": "ipython3",
   "version": "3.8.3"
  }
 },
 "nbformat": 4,
 "nbformat_minor": 4
}
